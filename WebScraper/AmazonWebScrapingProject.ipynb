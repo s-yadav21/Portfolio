{
 "cells": [
  {
   "cell_type": "code",
   "execution_count": 1,
   "id": "9a56836e",
   "metadata": {},
   "outputs": [],
   "source": [
    "# import libraries\n",
    "\n",
    "from bs4 import BeautifulSoup\n",
    "import requests\n",
    "import time\n",
    "import datetime\n",
    "import smtplib\n",
    "import csv\n",
    "import os\n",
    "import pandas as pd"
   ]
  },
  {
   "cell_type": "code",
   "execution_count": 2,
   "id": "fbe1b0f2",
   "metadata": {},
   "outputs": [
    {
     "name": "stdout",
     "output_type": "stream",
     "text": [
      "\n",
      "                   Funny Coding Shirt - Python Class Eat Code Sleep Repeat T-Shirt\n",
      "                  \n",
      "\n",
      "                  $17.50\n",
      "                 \n",
      "\n",
      "                    9 ratings\n",
      "                   \n"
     ]
    }
   ],
   "source": [
    "# Connect to Amazon website and pull data\n",
    "\n",
    "URL = 'https://www.amazon.com/Funny-Coding-Shirt-Python-Repeat/dp/B07F2K6DCN/ref=sr_1_23?crid=2M65EX5KB8H99&keywords=python%2Bprogramming%2Bgift&qid=1675020941&sprefix=python%2Bprogramming%2Caps%2C128&sr=8-23&customId=B07537PBB4&customizationToken=MC_Assembly_1%23B07537PBB4&th=1'\n",
    "headers = {\"User-Agent\": \"Mozilla/5.0 (Macintosh; Intel Mac OS X 10_15_7) AppleWebKit/537.36 (KHTML, like Gecko) Chrome/109.0.0.0 Safari/537.36\",\"Accept-Encoding\": \"gzip, deflate, br\", \"Accept\":\"text/html,application/xhtml+xml,application/xml;q=0.9,*/*;q=0.8\",\"DNT\":\"1\",\"Connection\":\"close\", \"Upgrade-Insecure-Requests\":\"1\"}\n",
    "page= requests.get(URL, headers=headers)\n",
    "\n",
    "soup1 = BeautifulSoup(page.content, 'html.parser')\n",
    "\n",
    "soup2 = BeautifulSoup(soup1.prettify(),'html.parser')\n",
    "\n",
    "title = soup2.find(id=\"productTitle\").get_text()\n",
    "\n",
    "price = soup2.find(attrs={'class':'a-offscreen'}).get_text()\n",
    "\n",
    "rating = soup2.find(id='acrCustomerReviewText').get_text()\n",
    "\n",
    "print(title)\n",
    "print(price)\n",
    "print(rating)"
   ]
  },
  {
   "cell_type": "code",
   "execution_count": 3,
   "id": "55f69cee",
   "metadata": {},
   "outputs": [
    {
     "name": "stdout",
     "output_type": "stream",
     "text": [
      "Funny Coding Shirt - Python Class Eat Code Sleep Repeat T-Shirt\n",
      "17.50\n",
      "9 ratings\n"
     ]
    }
   ],
   "source": [
    "# Clean up the pulled data\n",
    "price = price.strip()[1:]\n",
    "title = title.strip()\n",
    "rating = rating.strip()\n",
    "\n",
    "print(title)\n",
    "print(price)\n",
    "print(rating)"
   ]
  },
  {
   "cell_type": "code",
   "execution_count": 4,
   "id": "9b0d0921",
   "metadata": {},
   "outputs": [
    {
     "name": "stdout",
     "output_type": "stream",
     "text": [
      "2023-01-31\n"
     ]
    }
   ],
   "source": [
    "# Creating timestamp to track when the data was collected\n",
    "today = datetime.date.today()\n",
    "print(today)"
   ]
  },
  {
   "cell_type": "code",
   "execution_count": 5,
   "id": "4b7164b2",
   "metadata": {},
   "outputs": [],
   "source": [
    "# create csv and write headers and data into the csv file\n",
    "\n",
    "header = ['Title', 'Price', 'Rating','Date']\n",
    "data = [title, price, rating, today]\n",
    "\n",
    "# Append data to csv\n",
    "fileName = 'AmazonWebScraperDataset.csv'\n",
    "filePath = '/Users/sy/Documents/PortfolioProjects/CodeOutput'\n",
    "path = os.path.join(filePath,fileName)\n",
    "\n",
    "with open(path, 'a+',newline='', encoding='UTF8') as f:\n",
    "    writer = csv.writer(f)\n",
    "    writer.writerow(data)"
   ]
  },
  {
   "cell_type": "code",
   "execution_count": 6,
   "id": "021ef934",
   "metadata": {},
   "outputs": [],
   "source": [
    "# Creating a function to check price multiple times on Amazon:\n",
    "\n",
    "def check_price():\n",
    "    URL = 'https://www.amazon.com/Funny-Coding-Shirt-Python-Repeat/dp/B07F2K6DCN/ref=sr_1_23?crid=2M65EX5KB8H99&keywords=python%2Bprogramming%2Bgift&qid=1675020941&sprefix=python%2Bprogramming%2Caps%2C128&sr=8-23&customId=B07537PBB4&customizationToken=MC_Assembly_1%23B07537PBB4&th=1'\n",
    "    headers = {\"User-Agent\": \"Mozilla/5.0 (Macintosh; Intel Mac OS X 10_15_7) AppleWebKit/537.36 (KHTML, like Gecko) Chrome/109.0.0.0 Safari/537.36\",\"Accept-Encoding\": \"gzip, deflate, br\", \"Accept\":\"text/html,application/xhtml+xml,application/xml;q=0.9,*/*;q=0.8\",\"DNT\":\"1\",\"Connection\":\"close\", \"Upgrade-Insecure-Requests\":\"1\"}\n",
    "    page= requests.get(URL, headers=headers)\n",
    "    soup1 = BeautifulSoup(page.content, 'html.parser')\n",
    "    soup2 = BeautifulSoup(soup1.prettify(),'html.parser')\n",
    "    title = soup2.find(id=\"productTitle\").get_text()\n",
    "    price = soup2.find(attrs={'class':'a-offscreen'}).get_text()\n",
    "    rating = soup2.find(id='acrCustomerReviewText').get_text()\n",
    "    price = price.strip()[1:]\n",
    "    title = title.strip()\n",
    "    rating = rating.strip()\n",
    "    today = datetime.date.today()\n",
    "    header = ['Title', 'Price', 'Rating','Date']\n",
    "    data = [title, price, rating, today]\n",
    "    fileName = 'AmazonWebScraperDataset.csv'\n",
    "    filePath = '/Users/sy/Documents/PortfolioProjects/CodeOutput'\n",
    "    path = os.path.join(filePath,fileName)\n",
    "    with open(path, 'a+',newline='', encoding='UTF8') as f:\n",
    "        writer = csv.writer(f)\n",
    "        writer.writerow(data)\n",
    "        "
   ]
  },
  {
   "cell_type": "code",
   "execution_count": null,
   "id": "26b409b6",
   "metadata": {},
   "outputs": [],
   "source": [
    "# Runs check_price after a set time and inputs data into your CSV\n",
    "\n",
    "while(True):\n",
    "    check_price()\n",
    "    time.sleep(10) #time in seconds"
   ]
  },
  {
   "cell_type": "code",
   "execution_count": null,
   "id": "28b56a73",
   "metadata": {},
   "outputs": [],
   "source": [
    "df = pd.read_csv(path)\n",
    "print(df)"
   ]
  },
  {
   "cell_type": "code",
   "execution_count": null,
   "id": "12b4521f",
   "metadata": {},
   "outputs": [],
   "source": [
    "# Send email to yourself when price goes below a set price\n",
    "\n",
    "def send_mail():\n",
    "    server = smtplib.SMTP_SSL('smtp.gmail.com',465)\n",
    "    server.ehlo()\n",
    "    server.login('shwetayadav15@gmail.com','xxxxx')\n",
    "    subject = \"The Shirt you want is below $15! Now is your chance to buy!\"\n",
    "    body = \"This is your chance to pick up the shirt you liked. Link here: https://www.amazon.com/Funny-Coding-Shirt-Python-Repeat/dp/B07F2K6DCN/ref=sr_1_23?crid=2M65EX5KB8H99&keywords=python%2Bprogramming%2Bgift&qid=1675020941&sprefix=python%2Bprogramming%2Caps%2C128&sr=8-23&customId=B07537PBB4&customizationToken=MC_Assembly_1%23B07537PBB4&th=1\"\n",
    "   \n",
    "    msg = f\"Subject: {subject}\\n\\n{body}\"\n",
    "    \n",
    "    server.sendmail(\n",
    "        'shwetayadav15@gmail.com',\n",
    "        msg\n",
    "        \n",
    "    )"
   ]
  },
  {
   "cell_type": "code",
   "execution_count": null,
   "id": "a89f0efb",
   "metadata": {},
   "outputs": [],
   "source": [
    "#extracting price as integer\n",
    "p = float(price.replace('$',''))\n",
    "if (p < 14):\n",
    "    send_mail()"
   ]
  }
 ],
 "metadata": {
  "kernelspec": {
   "display_name": "Python 3 (ipykernel)",
   "language": "python",
   "name": "python3"
  },
  "language_info": {
   "codemirror_mode": {
    "name": "ipython",
    "version": 3
   },
   "file_extension": ".py",
   "mimetype": "text/x-python",
   "name": "python",
   "nbconvert_exporter": "python",
   "pygments_lexer": "ipython3",
   "version": "3.9.13"
  }
 },
 "nbformat": 4,
 "nbformat_minor": 5
}
